{
 "cells": [
  {
   "cell_type": "code",
   "execution_count": 3,
   "id": "d5f86772-0f7f-443c-a89e-f84f6a2f7dd6",
   "metadata": {},
   "outputs": [
    {
     "name": "stderr",
     "output_type": "stream",
     "text": [
      "[nltk_data] Downloading package stopwords to\n",
      "[nltk_data]     C:\\Users\\91784\\AppData\\Roaming\\nltk_data...\n",
      "[nltk_data]   Package stopwords is already up-to-date!\n"
     ]
    },
    {
     "name": "stdout",
     "output_type": "stream",
     "text": [
      "F1 Score: 0.9090909090909092\n",
      "ROC AUC: 0.9892867564300304\n",
      "[[959   7]\n",
      " [ 19 130]]\n",
      "              precision    recall  f1-score   support\n",
      "\n",
      "           0       0.98      0.99      0.99       966\n",
      "           1       0.95      0.87      0.91       149\n",
      "\n",
      "    accuracy                           0.98      1115\n",
      "   macro avg       0.96      0.93      0.95      1115\n",
      "weighted avg       0.98      0.98      0.98      1115\n",
      "\n"
     ]
    },
    {
     "data": {
      "text/plain": [
       "['engineered_feature_names.pkl']"
      ]
     },
     "execution_count": 3,
     "metadata": {},
     "output_type": "execute_result"
    }
   ],
   "source": [
    "import pandas as pd\n",
    "import numpy as np\n",
    "import re\n",
    "import string\n",
    "import joblib\n",
    "import nltk\n",
    "\n",
    "from sklearn.feature_extraction.text import TfidfVectorizer\n",
    "from sklearn.model_selection import train_test_split\n",
    "from sklearn.linear_model import LogisticRegression\n",
    "from sklearn.ensemble import RandomForestClassifier\n",
    "from sklearn.metrics import classification_report, confusion_matrix, roc_auc_score, f1_score\n",
    "\n",
    "nltk.download('stopwords')\n",
    "from nltk.corpus import stopwords\n",
    "\n",
    "\n",
    "df = pd.read_csv(\"SMSSpamCollection\", sep='\\t', names=['label', 'text'])\n",
    "df['label'] = df['label'].map({'ham': 0, 'spam': 1})\n",
    "\n",
    "\n",
    "def extract_features(text):\n",
    "    text = str(text)\n",
    "    features = {\n",
    "        'has_urgent_words': int(bool(re.search(r\"immediate|urgent|action required|24 hours\", text, re.IGNORECASE))),\n",
    "        'has_links': int(\"http\" in text or \"www\" in text or \"bit.ly\" in text),\n",
    "        'has_attachment_terms': int(bool(re.search(r\"\\.zip|\\.pdf|attachment\", text, re.IGNORECASE))),\n",
    "        'phishing_keywords': int(bool(re.search(r\"invoice|bank|login|payment|verify|credentials\", text, re.IGNORECASE))),\n",
    "        'capital_ratio': sum(1 for c in text if c.isupper()) / (len(text) + 1),\n",
    "        'has_html_tags': int(bool(re.search(r\"<.*?>\", text))),\n",
    "        'excessive_punctuation': int(text.count('!') > 1 or text.count('.') > 3),\n",
    "        'text_len': len(text),\n",
    "    }\n",
    "    return pd.Series(features)\n",
    "\n",
    "feature_df = df['text'].apply(extract_features)\n",
    "\n",
    "\n",
    "tfidf = TfidfVectorizer(stop_words='english', ngram_range=(1, 2), max_features=1000)\n",
    "tfidf_matrix = tfidf.fit_transform(df['text'])\n",
    "\n",
    "from scipy.sparse import hstack\n",
    "X = hstack([tfidf_matrix, feature_df])\n",
    "y = df['label']\n",
    "\n",
    "X_train, X_test, y_train, y_test = train_test_split(X, y, test_size=0.2, random_state=42)\n",
    "\n",
    "model = LogisticRegression(max_iter=500)\n",
    "model.fit(X_train, y_train)\n",
    "\n",
    "y_pred = model.predict(X_test)\n",
    "y_prob = model.predict_proba(X_test)[:, 1]\n",
    "\n",
    "print(\"F1 Score:\", f1_score(y_test, y_pred))\n",
    "print(\"ROC AUC:\", roc_auc_score(y_test, y_prob))\n",
    "print(confusion_matrix(y_test, y_pred))\n",
    "print(classification_report(y_test, y_pred))\n",
    "\n",
    "joblib.dump(model, \"improved_spam_model.pkl\")\n",
    "joblib.dump(tfidf, \"improved_vectorizer.pkl\")\n",
    "joblib.dump(feature_df.columns.tolist(), \"engineered_feature_names.pkl\")"
   ]
  },
  {
   "cell_type": "code",
   "execution_count": null,
   "id": "0e505733-5170-47b5-9414-ab5846f6c091",
   "metadata": {},
   "outputs": [],
   "source": []
  }
 ],
 "metadata": {
  "kernelspec": {
   "display_name": "Python 3 (ipykernel)",
   "language": "python",
   "name": "python3"
  },
  "language_info": {
   "codemirror_mode": {
    "name": "ipython",
    "version": 3
   },
   "file_extension": ".py",
   "mimetype": "text/x-python",
   "name": "python",
   "nbconvert_exporter": "python",
   "pygments_lexer": "ipython3",
   "version": "3.12.7"
  }
 },
 "nbformat": 4,
 "nbformat_minor": 5
}
